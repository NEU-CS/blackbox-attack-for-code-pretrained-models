{
 "cells": [
  {
   "cell_type": "code",
   "execution_count": 2,
   "metadata": {},
   "outputs": [],
   "source": [
    "'''得到生成的对抗样本,将其加入到adv_codes.jsonl文件中。\n",
    "    后续在preprocess中将adv_codes.jsonl加入到train.pkl中,得到train_adv.pkl。用作adv training\n",
    "    也会直接生成adv_train.pkl,用作adv fine-tuning\n",
    "'''\n",
    "import pandas as pd\n",
    "import json\n",
    "df = pd.read_csv(\"attack_all.csv\")\n",
    "adv_codes = []\n",
    "df2 = pd.DataFrame(columns=[\"text\",\"label\"])\n",
    "with open(\"../dataset/adv_codes.jsonl\",\"w\") as f:\n",
    "    for i in range(len(df)):\n",
    "        if df.loc[i,\"Is Success\"] == 1:\n",
    "            df2.loc[i] = df.loc[i,\"Adversarial Code\"],int(df.loc[i,\"True Label\"].split(\"_\")[-1])\n",
    "            f.write(json.dumps({\"text\":df.loc[i,\"Adversarial Code\"],\"label\":int(df.loc[i,\"True Label\"].split(\"_\")[-1])})+\"\\n\")\n",
    "df2.to_pickle(\"../dataset/adv_training.pkl\")"
   ]
  },
  {
   "cell_type": "code",
   "execution_count": null,
   "metadata": {},
   "outputs": [],
   "source": []
  }
 ],
 "metadata": {
  "kernelspec": {
   "display_name": "base",
   "language": "python",
   "name": "python3"
  },
  "language_info": {
   "codemirror_mode": {
    "name": "ipython",
    "version": 3
   },
   "file_extension": ".py",
   "mimetype": "text/x-python",
   "name": "python",
   "nbconvert_exporter": "python",
   "pygments_lexer": "ipython3",
   "version": "3.8.10"
  },
  "orig_nbformat": 4
 },
 "nbformat": 4,
 "nbformat_minor": 2
}
