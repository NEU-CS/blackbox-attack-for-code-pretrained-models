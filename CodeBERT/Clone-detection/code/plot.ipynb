{
 "cells": [
  {
   "cell_type": "code",
   "execution_count": 37,
   "metadata": {},
   "outputs": [],
   "source": [
    "import pandas as pd\n",
    "import matplotlib\n",
    "from matplotlib import pyplot as plt\n",
    "import numpy as np\n",
    "import seaborn as sns"
   ]
  },
  {
   "cell_type": "code",
   "execution_count": 38,
   "metadata": {},
   "outputs": [],
   "source": [
    "df = pd.read_csv(\"trainlog.csv\")\n",
    "x = list(df['step'])\n",
    "y = list(df['trainloss'])\n",
    "d = []\n",
    "for i in range(len(x)):\n",
    "    d.append([x[i],y[i]])\n",
    "df2 = pd.DataFrame(columns=['train step','trainloss'],data=d)"
   ]
  },
  {
   "cell_type": "code",
   "execution_count": 39,
   "metadata": {},
   "outputs": [],
   "source": [
    "sns.set_theme(style='darkgrid')"
   ]
  },
  {
   "cell_type": "code",
   "execution_count": 40,
   "metadata": {},
   "outputs": [
    {
     "data": {
      "text/plain": [
       "Text(0.5, 1.0, 'trainloss change')"
      ]
     },
     "execution_count": 40,
     "metadata": {},
     "output_type": "execute_result"
    },
    {
     "data": {
      "image/png": "[encoded data removed]",
      "text/plain": [
       "<Figure size 432x288 with 1 Axes>"
      ]
     },
     "metadata": {},
     "output_type": "display_data"
    }
   ],
   "source": [
    "plt.subplot(1,2,1)\n",
    "plt.plot(df2['train step'].to_numpy(),df2['trainloss'].to_numpy())\n",
    "plt.xlabel(\"train step\")\n",
    "plt.ylabel(\"trainloss\")\n",
    "plt.title(\"trainloss change\")"
   ]
  },
  {
   "cell_type": "code",
   "execution_count": 41,
   "metadata": {},
   "outputs": [],
   "source": [
    "validloss = df['validloss']\n",
    "acc = df['acc']\n",
    "f1socre = df['f1-score']"
   ]
  },
  {
   "cell_type": "code",
   "execution_count": 42,
   "metadata": {},
   "outputs": [],
   "source": [
    "rx = []\n",
    "for i in range(len(x)):\n",
    "    if not pd.isna(validloss[i]):\n",
    "        rx.append(i)"
   ]
  },
  {
   "cell_type": "code",
   "execution_count": 43,
   "metadata": {},
   "outputs": [],
   "source": [
    "validloss =validloss.dropna(axis=0,how='all')\n",
    "acc = acc.dropna(axis=0,how='all')"
   ]
  },
  {
   "cell_type": "code",
   "execution_count": 44,
   "metadata": {},
   "outputs": [],
   "source": [
    "d = []\n",
    "for i in range(len(rx)):\n",
    "    d.append([validloss[rx[i]],acc[rx[i]]])"
   ]
  },
  {
   "cell_type": "code",
   "execution_count": 45,
   "metadata": {},
   "outputs": [],
   "source": [
    "df3 = pd.DataFrame(columns=['validloss','acc'],data=d,index= rx)"
   ]
  },
  {
   "cell_type": "code",
   "execution_count": 46,
   "metadata": {},
   "outputs": [
    {
     "data": {
      "text/html": [
       "<div>\n",
       "<style scoped>\n",
       "    .dataframe tbody tr th:only-of-type {\n",
       "        vertical-align: middle;\n",
       "    }\n",
       "\n",
       "    .dataframe tbody tr th {\n",
       "        vertical-align: top;\n",
       "    }\n",
       "\n",
       "    .dataframe thead th {\n",
       "        text-align: right;\n",
       "    }\n",
       "</style>\n",
       "<table border=\"1\" class=\"dataframe\">\n",
       "  <thead>\n",
       "    <tr style=\"text-align: right;\">\n",
       "      <th></th>\n",
       "      <th>validloss</th>\n",
       "      <th>acc</th>\n",
       "    </tr>\n",
       "  </thead>\n",
       "  <tbody>\n",
       "    <tr>\n",
       "      <th>799</th>\n",
       "      <td>0.045391</td>\n",
       "      <td>0.65800</td>\n",
       "    </tr>\n",
       "    <tr>\n",
       "      <th>1599</th>\n",
       "      <td>0.030662</td>\n",
       "      <td>0.78800</td>\n",
       "    </tr>\n",
       "    <tr>\n",
       "      <th>2399</th>\n",
       "      <td>0.026136</td>\n",
       "      <td>0.80975</td>\n",
       "    </tr>\n",
       "    <tr>\n",
       "      <th>3199</th>\n",
       "      <td>0.026016</td>\n",
       "      <td>0.80825</td>\n",
       "    </tr>\n",
       "    <tr>\n",
       "      <th>3999</th>\n",
       "      <td>0.026704</td>\n",
       "      <td>0.79150</td>\n",
       "    </tr>\n",
       "    <tr>\n",
       "      <th>4799</th>\n",
       "      <td>0.025871</td>\n",
       "      <td>0.79700</td>\n",
       "    </tr>\n",
       "    <tr>\n",
       "      <th>5599</th>\n",
       "      <td>0.024381</td>\n",
       "      <td>0.83100</td>\n",
       "    </tr>\n",
       "    <tr>\n",
       "      <th>6399</th>\n",
       "      <td>0.023532</td>\n",
       "      <td>0.82850</td>\n",
       "    </tr>\n",
       "    <tr>\n",
       "      <th>7199</th>\n",
       "      <td>0.022668</td>\n",
       "      <td>0.83150</td>\n",
       "    </tr>\n",
       "    <tr>\n",
       "      <th>7999</th>\n",
       "      <td>0.022620</td>\n",
       "      <td>0.83100</td>\n",
       "    </tr>\n",
       "    <tr>\n",
       "      <th>8799</th>\n",
       "      <td>0.022376</td>\n",
       "      <td>0.83325</td>\n",
       "    </tr>\n",
       "    <tr>\n",
       "      <th>9599</th>\n",
       "      <td>0.023549</td>\n",
       "      <td>0.81900</td>\n",
       "    </tr>\n",
       "    <tr>\n",
       "      <th>10399</th>\n",
       "      <td>0.021863</td>\n",
       "      <td>0.83975</td>\n",
       "    </tr>\n",
       "    <tr>\n",
       "      <th>11199</th>\n",
       "      <td>0.022369</td>\n",
       "      <td>0.83450</td>\n",
       "    </tr>\n",
       "    <tr>\n",
       "      <th>12062</th>\n",
       "      <td>0.024044</td>\n",
       "      <td>0.83300</td>\n",
       "    </tr>\n",
       "    <tr>\n",
       "      <th>12862</th>\n",
       "      <td>0.021620</td>\n",
       "      <td>0.83425</td>\n",
       "    </tr>\n",
       "    <tr>\n",
       "      <th>13662</th>\n",
       "      <td>0.022025</td>\n",
       "      <td>0.83550</td>\n",
       "    </tr>\n",
       "    <tr>\n",
       "      <th>14462</th>\n",
       "      <td>0.022188</td>\n",
       "      <td>0.83775</td>\n",
       "    </tr>\n",
       "    <tr>\n",
       "      <th>15262</th>\n",
       "      <td>0.021694</td>\n",
       "      <td>0.83850</td>\n",
       "    </tr>\n",
       "    <tr>\n",
       "      <th>16062</th>\n",
       "      <td>0.024587</td>\n",
       "      <td>0.83925</td>\n",
       "    </tr>\n",
       "    <tr>\n",
       "      <th>16862</th>\n",
       "      <td>0.024178</td>\n",
       "      <td>0.83050</td>\n",
       "    </tr>\n",
       "    <tr>\n",
       "      <th>17662</th>\n",
       "      <td>0.023662</td>\n",
       "      <td>0.83650</td>\n",
       "    </tr>\n",
       "    <tr>\n",
       "      <th>18462</th>\n",
       "      <td>0.025038</td>\n",
       "      <td>0.83625</td>\n",
       "    </tr>\n",
       "    <tr>\n",
       "      <th>19262</th>\n",
       "      <td>0.022046</td>\n",
       "      <td>0.84100</td>\n",
       "    </tr>\n",
       "    <tr>\n",
       "      <th>20062</th>\n",
       "      <td>0.021921</td>\n",
       "      <td>0.84150</td>\n",
       "    </tr>\n",
       "    <tr>\n",
       "      <th>20862</th>\n",
       "      <td>0.023342</td>\n",
       "      <td>0.83950</td>\n",
       "    </tr>\n",
       "    <tr>\n",
       "      <th>21662</th>\n",
       "      <td>0.022889</td>\n",
       "      <td>0.83575</td>\n",
       "    </tr>\n",
       "    <tr>\n",
       "      <th>22462</th>\n",
       "      <td>0.022892</td>\n",
       "      <td>0.83650</td>\n",
       "    </tr>\n",
       "    <tr>\n",
       "      <th>23325</th>\n",
       "      <td>0.022456</td>\n",
       "      <td>0.84275</td>\n",
       "    </tr>\n",
       "    <tr>\n",
       "      <th>24125</th>\n",
       "      <td>0.023599</td>\n",
       "      <td>0.84225</td>\n",
       "    </tr>\n",
       "    <tr>\n",
       "      <th>24925</th>\n",
       "      <td>0.023881</td>\n",
       "      <td>0.84200</td>\n",
       "    </tr>\n",
       "    <tr>\n",
       "      <th>25725</th>\n",
       "      <td>0.025585</td>\n",
       "      <td>0.83550</td>\n",
       "    </tr>\n",
       "    <tr>\n",
       "      <th>26525</th>\n",
       "      <td>0.022369</td>\n",
       "      <td>0.84125</td>\n",
       "    </tr>\n",
       "    <tr>\n",
       "      <th>27325</th>\n",
       "      <td>0.024105</td>\n",
       "      <td>0.84275</td>\n",
       "    </tr>\n",
       "    <tr>\n",
       "      <th>28125</th>\n",
       "      <td>0.023836</td>\n",
       "      <td>0.84100</td>\n",
       "    </tr>\n",
       "    <tr>\n",
       "      <th>28925</th>\n",
       "      <td>0.024909</td>\n",
       "      <td>0.84050</td>\n",
       "    </tr>\n",
       "  </tbody>\n",
       "</table>\n",
       "</div>"
      ],
      "text/plain": [
       "       validloss      acc\n",
       "799     0.045391  0.65800\n",
       "1599    0.030662  0.78800\n",
       "2399    0.026136  0.80975\n",
       "3199    0.026016  0.80825\n",
       "3999    0.026704  0.79150\n",
       "4799    0.025871  0.79700\n",
       "5599    0.024381  0.83100\n",
       "6399    0.023532  0.82850\n",
       "7199    0.022668  0.83150\n",
       "7999    0.022620  0.83100\n",
       "8799    0.022376  0.83325\n",
       "9599    0.023549  0.81900\n",
       "10399   0.021863  0.83975\n",
       "11199   0.022369  0.83450\n",
       "12062   0.024044  0.83300\n",
       "12862   0.021620  0.83425\n",
       "13662   0.022025  0.83550\n",
       "14462   0.022188  0.83775\n",
       "15262   0.021694  0.83850\n",
       "16062   0.024587  0.83925\n",
       "16862   0.024178  0.83050\n",
       "17662   0.023662  0.83650\n",
       "18462   0.025038  0.83625\n",
       "19262   0.022046  0.84100\n",
       "20062   0.021921  0.84150\n",
       "20862   0.023342  0.83950\n",
       "21662   0.022889  0.83575\n",
       "22462   0.022892  0.83650\n",
       "23325   0.022456  0.84275\n",
       "24125   0.023599  0.84225\n",
       "24925   0.023881  0.84200\n",
       "25725   0.025585  0.83550\n",
       "26525   0.022369  0.84125\n",
       "27325   0.024105  0.84275\n",
       "28125   0.023836  0.84100\n",
       "28925   0.024909  0.84050"
      ]
     },
     "execution_count": 46,
     "metadata": {},
     "output_type": "execute_result"
    }
   ],
   "source": [
    "df3"
   ]
  },
  {
   "cell_type": "code",
   "execution_count": 50,
   "metadata": {},
   "outputs": [
    {
     "data": {
      "text/plain": [
       "<matplotlib.legend.Legend at 0x7f95eb8aa3d0>"
      ]
     },
     "execution_count": 50,
     "metadata": {},
     "output_type": "execute_result"
    },
    {
     "data": {
      "image/png": "[encoded data removed]",
      "text/plain": [
       "<Figure size 432x288 with 1 Axes>"
      ]
     },
     "metadata": {},
     "output_type": "display_data"
    }
   ],
   "source": [
    "plt.subplot(1,2,2)\n",
    "plt.plot(rx,df3['validloss'].to_numpy(),rx,df3['acc'].to_numpy())\n",
    "plt.xlabel(\"train step\")\n",
    "plt.ylabel(\"trainloss\")\n",
    "plt.title(\"trainloss change\")\n",
    "plt.legend(labels=[\"validloss\",\"acc\"])"
   ]
  },
  {
   "cell_type": "code",
   "execution_count": null,
   "metadata": {},
   "outputs": [],
   "source": []
  }
 ],
 "metadata": {
  "kernelspec": {
   "display_name": "adv",
   "language": "python",
   "name": "python3"
  },
  "language_info": {
   "codemirror_mode": {
    "name": "ipython",
    "version": 3
   },
   "file_extension": ".py",
   "mimetype": "text/x-python",
   "name": "python",
   "nbconvert_exporter": "python",
   "pygments_lexer": "ipython3",
   "version": "3.8.10"
  },
  "orig_nbformat": 4
 },
 "nbformat": 4,
 "nbformat_minor": 2
}
