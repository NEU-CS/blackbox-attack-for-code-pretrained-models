{
 "cells": [
  {
   "cell_type": "code",
   "execution_count": 2,
   "metadata": {},
   "outputs": [],
   "source": [
    "import pandas as pd\n",
    "import numpy as np\n",
    "import json"
   ]
  },
  {
   "cell_type": "code",
   "execution_count": 4,
   "metadata": {},
   "outputs": [],
   "source": [
    "df = pd.DataFrame(columns=[\"text\",\"label\"])\n",
    "count = 0\n",
    "with open(\"train.jsonl\") as f:\n",
    "    for line in f:\n",
    "        df.loc[count] = json.loads(line)['func'],json.loads(line)['target'] \n",
    "        count += 1\n",
    "df.to_pickle(\"train.pkl\")"
   ]
  },
  {
   "cell_type": "code",
   "execution_count": 5,
   "metadata": {},
   "outputs": [],
   "source": [
    "df = pd.DataFrame(columns=[\"text\",\"label\"])\n",
    "count = 0\n",
    "with open(\"valid.jsonl\") as f:\n",
    "    for line in f:\n",
    "        df.loc[count] = json.loads(line)['func'],json.loads(line)['target']\n",
    "        count += 1\n",
    "df.to_pickle(\"valid.pkl\")"
   ]
  },
  {
   "cell_type": "code",
   "execution_count": 8,
   "metadata": {},
   "outputs": [],
   "source": [
    "df = pd.DataFrame(columns=[\"text\",\"label\"])\n",
    "count = 0\n",
    "with open(\"test.jsonl\") as f:\n",
    "    for line in f:\n",
    "        df.loc[count] = json.loads(line)['func'],json.loads(line)['target']\n",
    "        count += 1\n",
    "df.to_pickle(\"test.pkl\")"
   ]
  },
  {
   "cell_type": "code",
   "execution_count": 9,
   "metadata": {},
   "outputs": [],
   "source": [
    "nums = [0,400,800,1200,1600,2000,2400,2800]\n",
    "with open(\"test_subs.jsonl\",\"w\") as f2:\n",
    "    for i in range(len(nums)-1):\n",
    "        with open(\"test_subs_\"+str(nums[i])+\"_\"+str(nums[i+1])+\".jsonl\") as f:\n",
    "            for line in f:\n",
    "                f2.write(line)"
   ]
  },
  {
   "cell_type": "code",
   "execution_count": 10,
   "metadata": {},
   "outputs": [],
   "source": [
    "import random\n",
    "p = []\n",
    "with open(\"test_subs.jsonl\") as f:\n",
    "    for line in f:\n",
    "        p.append(json.loads(line))\n"
   ]
  },
  {
   "cell_type": "code",
   "execution_count": 11,
   "metadata": {},
   "outputs": [],
   "source": [
    "x = []\n",
    "for i in range(len(df)):\n",
    "    x.append((df.loc[i],p[i]))\n",
    "random.shuffle(x)"
   ]
  },
  {
   "cell_type": "code",
   "execution_count": 12,
   "metadata": {},
   "outputs": [],
   "source": [
    "df2 = pd.DataFrame(columns=[\"text\",\"label\"])\n",
    "with open(\"test_subs.jsonl\",\"w\") as f:\n",
    "    for i in range(500):\n",
    "        df2.loc[i] = x[i][0]\n",
    "        f.write(json.dumps(x[i][1])+\"\\n\")\n",
    "    df2.to_pickle(\"test.pkl\")\n",
    "    \n",
    "\n"
   ]
  },
  {
   "cell_type": "code",
   "execution_count": null,
   "metadata": {},
   "outputs": [],
   "source": []
  }
 ],
 "metadata": {
  "kernelspec": {
   "display_name": "adv",
   "language": "python",
   "name": "python3"
  },
  "language_info": {
   "codemirror_mode": {
    "name": "ipython",
    "version": 3
   },
   "file_extension": ".py",
   "mimetype": "text/x-python",
   "name": "python",
   "nbconvert_exporter": "python",
   "pygments_lexer": "ipython3",
   "version": "3.8.16"
  },
  "orig_nbformat": 4
 },
 "nbformat": 4,
 "nbformat_minor": 2
}
