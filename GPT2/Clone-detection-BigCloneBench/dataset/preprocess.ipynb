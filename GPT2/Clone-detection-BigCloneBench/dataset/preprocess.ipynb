{
 "cells": [
  {
   "cell_type": "code",
   "execution_count": 1,
   "metadata": {},
   "outputs": [
    {
     "data": {
      "text/plain": [
       "'\\n预处理文件\\n现有文件data.jsonl。记录每一个func和idx\\n有文件train_sampled.txt。记录着一对func的idx和分类的类别\\n现在读取这两个文件,处理为train.csv。记录着一对代码和label\\n'"
      ]
     },
     "execution_count": 1,
     "metadata": {},
     "output_type": "execute_result"
    }
   ],
   "source": [
    "'''\n",
    "预处理文件\n",
    "现有文件data.jsonl。记录每一个func和idx\n",
    "有文件train_sampled.txt。记录着一对func的idx和分类的类别\n",
    "现在读取这两个文件,处理为train.csv。记录着一对代码和label\n",
    "'''"
   ]
  },
  {
   "cell_type": "code",
   "execution_count": 1,
   "metadata": {},
   "outputs": [],
   "source": [
    "idxinfo = []\n",
    "with open(\"train_sampled.txt\") as f2:\n",
    "    for line in f2:\n",
    "        idx1,idx2,label = line.split()\n",
    "        idxinfo.append((idx1,idx2,label))\n",
    "idxvalidinfo = []\n",
    "with open(\"valid_sampled.txt\") as f2:\n",
    "    for line in f2:\n",
    "        idx1,idx2,label = line.split()\n",
    "        idxvalidinfo.append((idx1,idx2,label))\n",
    "idxtestinfo = []\n",
    "with open(\"test_sampled.txt\") as f2:\n",
    "    for line in f2:\n",
    "        idx1,idx2,label = line.split()\n",
    "        idxtestinfo.append((idx1,idx2,label))"
   ]
  },
  {
   "cell_type": "code",
   "execution_count": 2,
   "metadata": {},
   "outputs": [],
   "source": [
    "'''\n",
    "把data.jsonl转换为idx:func的形式\n",
    "'''\n",
    "import json\n",
    "lst = {}\n",
    "with open(\"data.jsonl\") as f1:\n",
    "        for line in f1:\n",
    "            oneline = json.loads(line)\n",
    "            lst[oneline[\"idx\"]] = oneline[\"func\"]\n"
   ]
  },
  {
   "cell_type": "code",
   "execution_count": 4,
   "metadata": {},
   "outputs": [],
   "source": [
    "x = []\n",
    "with open(\"test_subsTrue.jsonl\") as f:\n",
    "    for i in f:\n",
    "        x.append(json.loads(i))\n",
    "import random\n",
    "y = []\n",
    "for i in range(len(idxtestinfo)):\n",
    "    y.append((idxtestinfo[i],x[i]))\n",
    "random.shuffle(y)\n",
    "idxtestinfo = []\n",
    "x = []\n",
    "for i in range(500):\n",
    "    idxtestinfo.append(y[i][0])\n",
    "    x.append(y[i][1])\n",
    "with open(\"test_subs.jsonl\",\"w\") as f:\n",
    "    for i in x:\n",
    "        f.write(json.dumps(i)+\"\\n\")"
   ]
  },
  {
   "cell_type": "code",
   "execution_count": 13,
   "metadata": {},
   "outputs": [
    {
     "name": "stderr",
     "output_type": "stream",
     "text": [
      "4000it [00:01, 3961.47it/s]\n"
     ]
    }
   ],
   "source": [
    "import pandas as pd\n",
    "from tqdm import tqdm\n",
    "df = pd.DataFrame(columns=[\"text\",\"label\"])\n",
    "dict = {}\n",
    "for i,v in tqdm(enumerate(idxvalidinfo)):\n",
    "    onedict = {\"text\":None,\"label\":None}\n",
    "    df.loc[i,\"text\"] = lst[v[0]] + \" <SPLIT> \"  + lst[v[1]] \n",
    "    df.loc[i,\"label\"] = int(v[2])\n",
    "df.to_pickle(\"./valid.pkl\")"
   ]
  },
  {
   "cell_type": "code",
   "execution_count": 5,
   "metadata": {},
   "outputs": [
    {
     "name": "stderr",
     "output_type": "stream",
     "text": [
      "500it [00:00, 4707.45it/s]\n"
     ]
    }
   ],
   "source": [
    "import pandas as pd\n",
    "from tqdm import tqdm\n",
    "df = pd.DataFrame(columns=[\"text\",\"label\"])\n",
    "dict = {}\n",
    "for i,v in tqdm(enumerate(idxtestinfo)):\n",
    "    onedict = {\"text\":None,\"label\":None}\n",
    "    df.loc[i,\"text\"] = lst[v[0]] + \" <SPLIT> \"  + lst[v[1]] \n",
    "    df.loc[i,\"label\"] = int(v[2])\n",
    "df.to_pickle(\"./test.pkl\")"
   ]
  },
  {
   "cell_type": "code",
   "execution_count": 14,
   "metadata": {},
   "outputs": [
    {
     "name": "stderr",
     "output_type": "stream",
     "text": [
      "90102it [02:30, 598.25it/s] \n"
     ]
    }
   ],
   "source": [
    "import pandas as pd\n",
    "from tqdm import tqdm\n",
    "df = pd.DataFrame(columns=[\"text\",\"label\"])\n",
    "for i,v in tqdm(enumerate(idxinfo)):\n",
    "    onedict = {\"text\":None,\"label\":None}\n",
    "    df.loc[i,\"text\"] = lst[v[0]] + \" <SPLIT> \"  + lst[v[1]] \n",
    "    df.loc[i,\"label\"] = int(v[2])\n",
    "df.to_pickle(\"./train.pkl\")"
   ]
  },
  {
   "cell_type": "code",
   "execution_count": 17,
   "metadata": {},
   "outputs": [],
   "source": [
    "import pandas as pd\n",
    "df = pd.read_pickle(\"train.pkl\")"
   ]
  },
  {
   "cell_type": "code",
   "execution_count": 18,
   "metadata": {},
   "outputs": [],
   "source": [
    "import json\n",
    "adv_c =[]\n",
    "with open(\"adv_codes.jsonl\") as f:\n",
    "    for line in f:\n",
    "        adv_c.append(json.loads(line))"
   ]
  },
  {
   "cell_type": "code",
   "execution_count": 19,
   "metadata": {},
   "outputs": [],
   "source": [
    "l = len(df)\n",
    "for i in range(l,l + len(adv_c)):\n",
    "    df.loc[i] = adv_c[i-l][\"text\"],adv_c[i-l][\"label\"]"
   ]
  },
  {
   "cell_type": "code",
   "execution_count": 21,
   "metadata": {},
   "outputs": [],
   "source": [
    "df.to_pickle(\"train_adv.pkl\")"
   ]
  }
 ],
 "metadata": {
  "kernelspec": {
   "display_name": "adv",
   "language": "python",
   "name": "python3"
  },
  "language_info": {
   "codemirror_mode": {
    "name": "ipython",
    "version": 3
   },
   "file_extension": ".py",
   "mimetype": "text/x-python",
   "name": "python",
   "nbconvert_exporter": "python",
   "pygments_lexer": "ipython3",
   "version": "3.8.16"
  },
  "orig_nbformat": 4
 },
 "nbformat": 4,
 "nbformat_minor": 2
}
